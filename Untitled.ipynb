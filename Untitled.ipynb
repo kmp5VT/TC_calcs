{
 "cells": [
  {
   "cell_type": "code",
   "execution_count": 15,
   "id": "classical-texture",
   "metadata": {},
   "outputs": [
    {
     "name": "stdout",
     "output_type": "stream",
     "text": [
      "['/bin/bash: pwd/CCSD/: No such file or directory']\n"
     ]
    }
   ],
   "source": [
    "import glob\n",
    "import json\n",
    "import sys\n",
    "\n",
    "molList = [\"h2\",\"he\"]\n",
    "root_dir = !pwd/CCSD/\n",
    "print(root_dir)\n",
    "file_name_base = \"-cc-pvqz-.json\"\n",
    "\n",
    "with open(\"template.json\", 'r') as f:\n",
    "    mpqcInp = json.load(f)\n",
    "    \n",
    "for m in molList: \n",
    "    mpqcInp[\"obs\"][\"name\"] = \"cc-pVQZ\"\n",
    "    mpqcInp[\"dfbs\"][\"name\"] = \"cc-pVQZ-RI\"\n",
    "    mpqcInp[\"atoms\"][\"file_name\"] = m + \".xyz\"\n",
    "    \n",
    "    outfile = m + file_name_base\n",
    "    with open(outfile,'w') as new_file:\n",
    "           new_file.write(json.dumps(mpqcInp, sort_keys=True, indent=4))"
   ]
  },
  {
   "cell_type": "code",
   "execution_count": 8,
   "id": "occasional-sender",
   "metadata": {},
   "outputs": [
    {
     "name": "stdout",
     "output_type": "stream",
     "text": [
      "/Users/karlpierce/workspace/TC_calcs\r\n"
     ]
    }
   ],
   "source": []
  },
  {
   "cell_type": "code",
   "execution_count": null,
   "id": "married-preserve",
   "metadata": {},
   "outputs": [],
   "source": []
  }
 ],
 "metadata": {
  "kernelspec": {
   "display_name": "Python 3",
   "language": "python",
   "name": "python3"
  },
  "language_info": {
   "codemirror_mode": {
    "name": "ipython",
    "version": 3
   },
   "file_extension": ".py",
   "mimetype": "text/x-python",
   "name": "python",
   "nbconvert_exporter": "python",
   "pygments_lexer": "ipython3",
   "version": "3.8.6"
  }
 },
 "nbformat": 4,
 "nbformat_minor": 5
}
